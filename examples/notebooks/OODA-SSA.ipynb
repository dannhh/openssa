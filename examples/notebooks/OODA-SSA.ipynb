{
 "cells": [
  {
   "cell_type": "code",
   "execution_count": 1,
   "metadata": {},
   "outputs": [],
   "source": [
    "from dotenv import load_dotenv\n",
    "from time import time\n",
    "import os\n",
    "load_dotenv() # it must be called before importing the project modules\n",
    "from openssa.core.ooda_rag.ooda_rag import Solver\n",
    "from openssa.core.ooda_rag.heuristic import (\n",
    "    DefaultOODAHeuristic,\n",
    "    TaskDecompositionHeuristic,\n",
    ")\n",
    "from openssa.core.ooda_rag.notifier import SimpleNotifier\n",
    "from openssa.core.ooda_rag.tools import ResearchDocumentsTool\n",
    "import openai\n",
    "openai.api_key = os.getenv(\"OPENAI_API_KEY\")"
   ]
  },
  {
   "cell_type": "code",
   "execution_count": 2,
   "metadata": {},
   "outputs": [],
   "source": [
    "heuristic_rules_example = {\n",
    "    \"uncrated picc\": [\n",
    "        \"find out the weight of the uncrated PICC\",\n",
    "    ],\n",
    "    \"crated picc\": [\n",
    "        \"find out the weight of the crated PICC\",\n",
    "    ],\n",
    "    \"picc\": [\n",
    "        \"find out the weight of PICC\",\n",
    "    ],\n",
    "}"
   ]
  },
  {
   "cell_type": "code",
   "execution_count": 3,
   "metadata": {},
   "outputs": [
    {
     "name": "stdout",
     "output_type": "stream",
     "text": [
      "\n",
      "user: if a person can lift 50 pound, how many people needed to lift the un crated picc?\n",
      "\n",
      "system: You have the following functions available to call, provided here in a dict of function names and descriptions. ['research_documents: \\n    A tool for querying a document base for information.\\n    ']\n",
      "\n",
      "system: Given the tools available, if the task cannot be completed directly with the current tools and resources, break it down into smaller subtasks that can be directly addressed in order. If it does not need to be broken down, return an empty list of subtasks. Return a JSON dictionary {\"subtasks\": [\"subtask 1\", \"subtask 2\", ...]} each subtask should be a sentence or question not a function call.\n",
      "\n",
      "assistant: {\"subtasks\": [\"Determine the weight of the uncrated picc.\"]}\n",
      "\n",
      "Subtasks: ['Determine the weight of the uncrated picc.']\n",
      "\n",
      "Event: notification, Data: {'message': 'starting sub-task'}\n",
      "\n",
      "assistant: Tool results: {'research_documents': {'success': True, 'message': {'content': 'The uncrated weight of the pICC is 425 kg or 935 lbs.', 'citations': [{'type': 'pdf', 'pages': ['36'], 'source': 'aiKO/uploaded_folders/1/mri-machine-docs/5791338 Rev 3.pdf'}, {'type': 'txt', 'pages': [], 'source': 'aiKO/uploaded_folders/1/mri-machine-docs/feedback_2023_11_03_13_52_46.txt'}, {'type': 'pdf', 'pages': ['35'], 'source': 'aiKO/uploaded_folders/1/mri-machine-docs/5791338 Rev 3.pdf'}, {'type': 'txt', 'pages': [], 'source': 'aiKO/uploaded_folders/1/mri-machine-docs/feedback_2023_11_10_03_33_14.txt'}]}}}\n",
      "Event: ooda-subtask-observe, Data: {'thought': 'Gather information from research document to solve the task \\n Determine the weight of the uncrated picc.', 'tool_results': {'research_documents': {'success': True, 'message': {'content': 'The uncrated weight of the pICC is 425 kg or 935 lbs.', 'citations': [{'type': 'pdf', 'pages': ['36'], 'source': 'aiKO/uploaded_folders/1/mri-machine-docs/5791338 Rev 3.pdf'}, {'type': 'txt', 'pages': [], 'source': 'aiKO/uploaded_folders/1/mri-machine-docs/feedback_2023_11_03_13_52_46.txt'}, {'type': 'pdf', 'pages': ['35'], 'source': 'aiKO/uploaded_folders/1/mri-machine-docs/5791338 Rev 3.pdf'}, {'type': 'txt', 'pages': [], 'source': 'aiKO/uploaded_folders/1/mri-machine-docs/feedback_2023_11_10_03_33_14.txt'}]}}}, 'uuid': '918f4c85-89a2-411b-97ef-fa48dcb633cd'}\n",
      "Event: ooda-subtask-orient, Data: {'thought': 'Analyze the information gathered from research documents. Checking any other tools that can be used to solve the task: No', 'tool_results': {}, 'uuid': '918f4c85-89a2-411b-97ef-fa48dcb633cd'}\n",
      "Event: ooda-subtask-decide, Data: {'thought': 'Decide using the information gathered from research documents', 'tool_results': {}, 'uuid': '918f4c85-89a2-411b-97ef-fa48dcb633cd'}\n",
      "Event: ooda-subtask-act, Data: {'thought': 'Add the information to the task history to solve the task', 'tool_results': {}, 'uuid': '918f4c85-89a2-411b-97ef-fa48dcb633cd'}\n",
      "Event: notification, Data: {'message': 'starting main-task'}\n",
      "\n",
      "assistant: Tool results: {'research_documents': {'success': True, 'message': {'content': '19 people would be needed to lift the uncrated pICC.', 'citations': [{'type': 'pdf', 'pages': ['36'], 'source': 'aiKO/uploaded_folders/1/mri-machine-docs/5791338 Rev 3.pdf'}, {'type': 'txt', 'pages': [], 'source': 'aiKO/uploaded_folders/1/mri-machine-docs/feedback_2023_11_10_07_20_23.txt'}, {'type': 'pdf', 'pages': ['35'], 'source': 'aiKO/uploaded_folders/1/mri-machine-docs/5791338 Rev 3.pdf'}, {'type': 'txt', 'pages': [], 'source': 'aiKO/uploaded_folders/1/mri-machine-docs/feedback_2023_11_10_03_33_14.txt'}]}}}\n",
      "Event: ooda-maintask-observe, Data: {'thought': 'Gather information from research document to solve the task \\n if a person can lift 50 pound, how many people needed to lift the un crated picc?', 'tool_results': {'research_documents': {'success': True, 'message': {'content': '19 people would be needed to lift the uncrated pICC.', 'citations': [{'type': 'pdf', 'pages': ['36'], 'source': 'aiKO/uploaded_folders/1/mri-machine-docs/5791338 Rev 3.pdf'}, {'type': 'txt', 'pages': [], 'source': 'aiKO/uploaded_folders/1/mri-machine-docs/feedback_2023_11_10_07_20_23.txt'}, {'type': 'pdf', 'pages': ['35'], 'source': 'aiKO/uploaded_folders/1/mri-machine-docs/5791338 Rev 3.pdf'}, {'type': 'txt', 'pages': [], 'source': 'aiKO/uploaded_folders/1/mri-machine-docs/feedback_2023_11_10_03_33_14.txt'}]}}}, 'uuid': '5990665f-a639-4825-b961-6846b0718d16'}\n",
      "Event: ooda-maintask-orient, Data: {'thought': 'Analyze the information gathered from research documents. Checking any other tools that can be used to solve the task: No', 'tool_results': {}, 'uuid': '5990665f-a639-4825-b961-6846b0718d16'}\n",
      "Event: ooda-maintask-decide, Data: {'thought': 'Decide using the information gathered from research documents', 'tool_results': {}, 'uuid': '5990665f-a639-4825-b961-6846b0718d16'}\n",
      "Event: ooda-maintask-act, Data: {'thought': 'Add the information to the task history to solve the task', 'tool_results': {}, 'uuid': '5990665f-a639-4825-b961-6846b0718d16'}\n",
      "\n",
      "system: As an expert in reasoning, you are examining a dialogue involving a user, an assistant, and a system. Your task is to synthesize the final answer to the user's initial question based on this conversation. This is the concluding instruction and must be followed with precision. You will derive the final response by critically analyzing all the messages in the conversation and performing any necessary calculations. Be aware that some contributions from the assistant may not be relevant or could be misleading due to being based on incomplete information. Exercise discernment in selecting the appropriate messages to construct a logical and step-by-step reasoning process.\n",
      "\n",
      "assistant: The uncrated pICC weighs 935 pounds. Given that one person can lift 50 pounds, you would simply divide 935 by 50 to figure out how many people are needed to lift the pICC. Rounding up because you can't have a fraction of a person, about 19 people would be needed.\n",
      "Event: task_result, Data: {'response': \"The uncrated pICC weighs 935 pounds. Given that one person can lift 50 pounds, you would simply divide 935 by 50 to figure out how many people are needed to lift the pICC. Rounding up because you can't have a fraction of a person, about 19 people would be needed.\"}\n",
      "Time taken: 10.912637948989868\n"
     ]
    }
   ],
   "source": [
    "# message = \"what can you do?\"\n",
    "# message = \"if a person can lift 50 pound, how many people needed to lift the uncrated picc?\"\n",
    "message = (\n",
    "    \"if a person can lift 50 pound, how many people needed to lift the un crated picc?\"\n",
    ")\n",
    "agent_id = \"90\"\n",
    "conversation_id = \"100\"\n",
    "research_documents_tool = ResearchDocumentsTool(agent_id=agent_id)\n",
    "task_heuristics = TaskDecompositionHeuristic(heuristic_rules_example)\n",
    "ooda_heuristics = DefaultOODAHeuristic()\n",
    "\n",
    "solver = Solver(\n",
    "    task_heuristics=task_heuristics,\n",
    "    ooda_heuristics=ooda_heuristics,\n",
    "    notifier=SimpleNotifier(),\n",
    ")\n",
    "t1 = time()\n",
    "solver.run(message, {\"research_documents\": research_documents_tool})\n",
    "print(f\"Time taken: {time() - t1}\")"
   ]
  },
  {
   "cell_type": "code",
   "execution_count": null,
   "metadata": {},
   "outputs": [],
   "source": []
  }
 ],
 "metadata": {
  "kernelspec": {
   "display_name": "openssa-y4Vw0L34-py3.11",
   "language": "python",
   "name": "python3"
  },
  "language_info": {
   "codemirror_mode": {
    "name": "ipython",
    "version": 3
   },
   "file_extension": ".py",
   "mimetype": "text/x-python",
   "name": "python",
   "nbconvert_exporter": "python",
   "pygments_lexer": "ipython3",
   "version": "3.10.4"
  },
  "orig_nbformat": 4
 },
 "nbformat": 4,
 "nbformat_minor": 2
}
